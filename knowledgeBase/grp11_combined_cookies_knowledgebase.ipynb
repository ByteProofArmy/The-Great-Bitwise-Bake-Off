{
  "nbformat": 4,
  "nbformat_minor": 0,
  "metadata": {
    "colab": {
      "provenance": []
    },
    "kernelspec": {
      "name": "python3",
      "display_name": "Python 3"
    },
    "language_info": {
      "name": "python"
    }
  },
  "cells": [
    {
      "cell_type": "code",
      "execution_count": 6,
      "metadata": {
        "colab": {
          "base_uri": "https://localhost:8080/"
        },
        "id": "HUSRJmRZSg9A",
        "outputId": "0b396645-f01c-44ec-f3f6-0d8b5adec147"
      },
      "outputs": [
        {
          "output_type": "stream",
          "name": "stdout",
          "text": [
            "1: {'name': 'Biscoff cookies', 'ingredients': [{'amount': '12', 'unit': 'tbsp', 'ingredient': 'Biscoff spread'}, {'amount': '125', 'unit': 'g', 'ingredient': 'salted butter softened'}, {'amount': '100', 'unit': 'g', 'ingredient': 'caster sugar'}, {'amount': '100', 'unit': 'g', 'ingredient': 'soft light brown sugar'}, {'amount': '1', 'unit': 'tsp', 'ingredient': 'vanilla bean paste'}, {'amount': '1', 'unit': 'medium', 'ingredient': 'egg'}, {'amount': '225', 'unit': 'g', 'ingredient': 'plain flour'}, {'amount': '1', 'unit': 'tbsp', 'ingredient': 'cornflour'}, {'amount': '', 'unit': '', 'ingredient': '½ tsp baking powder'}, {'amount': '100', 'unit': 'g', 'ingredient': 'Lotus biscuits finely chopped'}]}\n",
            "2: {'name': 'Apricot and white chocolate cookies', 'ingredients': [{'amount': '150', 'unit': 'g', 'ingredient': 'butter at room temperature'}, {'amount': '100', 'unit': 'g', 'ingredient': 'golden caster sugar'}, {'amount': '50', 'unit': 'g', 'ingredient': 'light muscovado sugar'}, {'amount': '1', 'unit': 'eg', 'ingredient': 'g'}, {'amount': '1', 'unit': 'tsp', 'ingredient': 'vanilla extract'}, {'amount': '1', 'unit': 'tbsp', 'ingredient': 'milk'}, {'amount': '220', 'unit': 'g', 'ingredient': 'self-raising flour'}, {'amount': '150', 'unit': 'g', 'ingredient': 'white chocolate roughly chopped'}, {'amount': '100', 'unit': 'g', 'ingredient': 'dried apricots snipped into pieces'}]}\n",
            "3: {'name': 'Caramelised white chocolate florentines', 'ingredients': [{'amount': '75', 'unit': 'g', 'ingredient': 'salted butter'}, {'amount': '5', 'unit': 'tbsp', 'ingredient': 'golden caster suagr'}, {'amount': '3', 'unit': 'tbsp', 'ingredient': 'plain flour'}, {'amount': '50', 'unit': 'g', 'ingredient': 'blanched almonds chopped'}, {'amount': '50', 'unit': 'g', 'ingredient': 'chopped mixed peel'}, {'amount': '25', 'unit': 'g', 'ingredient': 'sultanas chopped'}, {'amount': '25', 'unit': 'g', 'ingredient': 'dark glacé cherries chopped'}, {'amount': '150', 'unit': 'g', 'ingredient': 'white chocolate (30% cocoa butter or higher) chopped into small chunks'}, {'amount': '', 'unit': '', 'ingredient': 'optional sea salt flakes'}]}\n",
            "4: {'name': 'Edd Kimber', 'ingredients': [{'amount': '125', 'unit': 'g', 'ingredient': 'wholemeal rye flour'}, {'amount': '100', 'unit': 'g', 'ingredient': 'plain flour'}, {'amount': '2', 'unit': 'tbsp', 'ingredient': 'cocoa powder'}, {'amount': '1', 'unit': 'tsp', 'ingredient': 'baking powder'}, {'amount': '1', 'unit': '', 'ingredient': '/2 tsp bicarbonate of soda'}, {'amount': '1', 'unit': '', 'ingredient': '/2 tsp fine sea salt'}, {'amount': '85', 'unit': 'g', 'ingredient': 'unsalted butter softened'}, {'amount': '85', 'unit': 'g', 'ingredient': 'black tahini'}, {'amount': '100', 'unit': 'g', 'ingredient': 'soft light brown sugar'}, {'amount': '100', 'unit': 'g', 'ingredient': 'caster sugar'}, {'amount': '2', 'unit': 'large', 'ingredient': 'eggs'}, {'amount': '1', 'unit': 'tsp', 'ingredient': 'vanilla extract'}, {'amount': '100', 'unit': 'g', 'ingredient': 'sesame seeds'}, {'amount': '100', 'unit': 'g', 'ingredient': 'white chocolate finely chopped'}, {'amount': '50', 'unit': 'g', 'ingredient': 'double cream'}, {'amount': '1', 'unit': '', 'ingredient': '/4 tsp (optional) ground cardamom'}]}\n",
            "5: {'name': 'Chunky chocolate chip cookies', 'ingredients': [{'amount': '100', 'unit': 'g', 'ingredient': 'plain flour'}, {'amount': '', 'unit': '', 'ingredient': '¼ tsp bicarbonate of soda'}, {'amount': '', 'unit': '', 'ingredient': '¼ tsp baking powder'}, {'amount': '', 'unit': '', 'ingredient': '¼ tsp salt'}, {'amount': '125', 'unit': 'g', 'ingredient': 'unsalted butter'}, {'amount': '175', 'unit': 'g', 'ingredient': 'soft brown sugar'}, {'amount': '25', 'unit': 'g', 'ingredient': 'caster sugar'}, {'amount': '1', 'unit': 'eg', 'ingredient': 'g'}, {'amount': '1', 'unit': 'tsp', 'ingredient': 'vanilla extract'}, {'amount': '50', 'unit': 'g', 'ingredient': 'walnuts chopped'}, {'amount': '175', 'unit': 'g', 'ingredient': 'porridge oats'}, {'amount': '50', 'unit': 'g', 'ingredient': 'dark chocolate chopped into small chunks'}]}\n",
            "6: {'name': 'Janine Ratcliffe', 'ingredients': [{'amount': '85', 'unit': 'g', 'ingredient': 'unsalted butter softened'}, {'amount': '75', 'unit': 'g', 'ingredient': 'caster sugar'}, {'amount': '75', 'unit': 'g', 'ingredient': 'light brown muscovado sugar'}, {'amount': '1', 'unit': 'eg', 'ingredient': 'g'}, {'amount': '1', 'unit': 'tsp', 'ingredient': 'vanilla extract'}, {'amount': '175', 'unit': 'g', 'ingredient': 'self-raising flour'}, {'amount': '5', 'unit': 'Maltesers', 'ingredient': 'Mini Bunnies'}, {'amount': '15', 'unit': 'Galaxy', 'ingredient': 'Golden Eggs'}, {'amount': '24', 'unit': 'M', 'ingredient': '&amp;M’s Eggs'}]}\n",
            "7: {'name': 'Janine Ratcliffe', 'ingredients': [{'amount': '2', 'unit': 'x', 'ingredient': '100g bars dark chocolate Toblerones'}, {'amount': '100', 'unit': 'g', 'ingredient': 'dark chocolate chopped'}, {'amount': '50', 'unit': 'g', 'ingredient': 'unsalted butter softened'}, {'amount': '100', 'unit': 'g', 'ingredient': 'soft light brown sugar'}, {'amount': '1', 'unit': 'egg', 'ingredient': 'beaten'}, {'amount': '1', 'unit': 'tsp', 'ingredient': 'vanilla extract'}, {'amount': '100', 'unit': 'g', 'ingredient': 'plain flour'}, {'amount': '1', 'unit': 'tsp', 'ingredient': 'baking powder'}, {'amount': '50', 'unit': 'g', 'ingredient': 'ground almonds'}, {'amount': '1', 'unit': 'tbsp', 'ingredient': 'whole milk'}]}\n",
            "8: {'name': 'Adam Bush', 'ingredients': [{'amount': '150', 'unit': 'g', 'ingredient': 'unsalted butter softened'}, {'amount': '200', 'unit': 'g', 'ingredient': 'soft light brown sugar'}, {'amount': '100', 'unit': 'g', 'ingredient': 'golden caster sugar'}, {'amount': '1', 'unit': 'eg', 'ingredient': 'g'}, {'amount': '50', 'unit': 'g', 'ingredient': 'white miso paste'}, {'amount': '1', 'unit': 'tsp', 'ingredient': 'vanilla bean paste or extract'}, {'amount': '225', 'unit': 'g', 'ingredient': 'plain flour'}, {'amount': '25', 'unit': 'g', 'ingredient': 'cocoa powder'}, {'amount': '', 'unit': '', 'ingredient': '½ tsp baking powder'}, {'amount': '', 'unit': '', 'ingredient': '½ tsp sea salt flakes plus a pinch'}, {'amount': '100', 'unit': 'g', 'ingredient': 'dark chocolate chips'}, {'amount': '100', 'unit': 'g', 'ingredient': 'white chocolate chips'}, {'amount': '', 'unit': '', 'ingredient': 'a pinch (optional) white sesame seeds'}]}\n",
            "9: {'name': 'Anna Glover', 'ingredients': [{'amount': '150', 'unit': 'g', 'ingredient': 'salted butter softened'}, {'amount': '125', 'unit': 'g', 'ingredient': 'soft light brown sugar'}, {'amount': '90', 'unit': 'ml', 'ingredient': 'maple syrup'}, {'amount': '1', 'unit': 'egg', 'ingredient': 'lightly beaten'}, {'amount': '', 'unit': '', 'ingredient': 'a pinch mixed spice'}, {'amount': '280', 'unit': 'g', 'ingredient': 'plain flour'}, {'amount': '', 'unit': '', 'ingredient': '½ tsp baking powder'}, {'amount': '100', 'unit': 'g', 'ingredient': 'pecan halves 12 left whole, the rest chopped'}]}\n",
            "10: {'name': 'Adam Bush', 'ingredients': [{'amount': '100', 'unit': 'g', 'ingredient': 'unsalted butter softened'}, {'amount': '150', 'unit': 'g', 'ingredient': 'soft light brown sugar'}, {'amount': '100', 'unit': 'g', 'ingredient': 'plain flour'}, {'amount': '100', 'unit': 'g', 'ingredient': 'rolled oats'}, {'amount': '1', 'unit': 'tsp', 'ingredient': 'baking powder'}, {'amount': '', 'unit': '', 'ingredient': '½ tsp bicarbonate of soda'}, {'amount': '1', 'unit': 'tbsp', 'ingredient': 'whole milk'}, {'amount': '8', 'unit': 'black', 'ingredient': 'figs halved lengthways'}]}\n",
            "11: {'name': 'Sarah Cook', 'ingredients': [{'amount': '225', 'unit': 'g', 'ingredient': 'unsalted butter softened'}, {'amount': '125', 'unit': 'g', 'ingredient': 'soft light brown sugar'}, {'amount': '100', 'unit': 'g', 'ingredient': 'golden syrup'}, {'amount': '1', 'unit': 'large', 'ingredient': 'egg'}, {'amount': '1', 'unit': 'tsp', 'ingredient': 'vanilla extract'}, {'amount': '50', 'unit': 'g', 'ingredient': 'desiccated coconut'}, {'amount': '200', 'unit': 'g', 'ingredient': 'plain flour'}, {'amount': '1', 'unit': 'tsp', 'ingredient': 'bicarbonate of soda'}, {'amount': '50', 'unit': 'g', 'ingredient': 'rolled oats'}, {'amount': '50', 'unit': 'g', 'ingredient': 'honey nut cornflakes crushed'}]}\n",
            "12: {'name': 'Anna Glover', 'ingredients': [{'amount': '200', 'unit': 'g', 'ingredient': 'unsalted butter softened'}, {'amount': '175', 'unit': 'g', 'ingredient': 'caster sugar'}, {'amount': '2', 'unit': 'eggs', 'ingredient': '1 separated'}, {'amount': '2', 'unit': 'tsp', 'ingredient': 'vanilla extract'}, {'amount': '300', 'unit': 'g', 'ingredient': 'plain flour plus extra for dusting'}, {'amount': '', 'unit': '', 'ingredient': '½ tsp baking powder'}, {'amount': '150', 'unit': 'g', 'ingredient': 'icing sugar sifted'}, {'amount': '', 'unit': '', 'ingredient': 'food colouring (optional)'}]}\n",
            "13: {'name': 'Anna Glover', 'ingredients': [{'amount': '150', 'unit': 'g', 'ingredient': 'salted butter softened'}, {'amount': '50', 'unit': 'g', 'ingredient': 'soft light brown sugar'}, {'amount': '100', 'unit': 'g', 'ingredient': 'golden caster sugar'}, {'amount': '2', 'unit': 'egg', 'ingredient': 's'}, {'amount': '300', 'unit': 'g', 'ingredient': 'plain flour'}, {'amount': '1', 'unit': 'tsp', 'ingredient': 'baking powder'}, {'amount': '', 'unit': '', 'ingredient': '½ tsp ground cinnamon'}, {'amount': '100', 'unit': 'g', 'ingredient': 'raisins'}, {'amount': '200', 'unit': 'g', 'ingredient': 'leftover porridge cooked and cooled'}, {'amount': '1', 'unit': 'tbsp', 'ingredient': 'porridge oats (optional)'}]}\n",
            "14: {'name': 'Adam Bush', 'ingredients': [{'amount': '200', 'unit': 'g', 'ingredient': 'plain flour'}, {'amount': '150', 'unit': 'g', 'ingredient': 'unsalted butter softened'}, {'amount': '100', 'unit': 'g', 'ingredient': 'golden caster sugar'}, {'amount': '', 'unit': '', 'ingredient': '½ tsp vanilla extract'}, {'amount': '', 'unit': '', 'ingredient': 'a pinch fine sea salt'}, {'amount': '50', 'unit': 'g', 'ingredient': 'or dark chocolate chocolate chips chopped'}]}\n",
            "15: {'name': 'Lulu Grimes', 'ingredients': [{'amount': '200', 'unit': 'g', 'ingredient': 'dark chocolate broken into chunks'}, {'amount': '100', 'unit': 'g', 'ingredient': 'butter chopped'}, {'amount': '50', 'unit': 'g', 'ingredient': 'light muscovado sugar'}, {'amount': '85', 'unit': 'g', 'ingredient': 'golden caster sugar'}, {'amount': '1', 'unit': 'tsp', 'ingredient': 'vanilla extract'}, {'amount': '1', 'unit': 'egg', 'ingredient': 'beaten'}, {'amount': '100', 'unit': 'g', 'ingredient': 'pecans'}, {'amount': '100', 'unit': 'g', 'ingredient': 'plain flour'}, {'amount': '1', 'unit': 'tsp', 'ingredient': 'bicarbonate of soda'}]}\n",
            "16: {'name': 'Edd Kimber', 'ingredients': [{'amount': '200', 'unit': 'g', 'ingredient': 'dark chocolate finely chopped'}, {'amount': '100', 'unit': 'g', 'ingredient': 'unsalted butter diced'}, {'amount': '100', 'unit': 'g', 'ingredient': 'caster sugar'}, {'amount': '150', 'unit': 'g', 'ingredient': 'light brown sugar'}, {'amount': '2', 'unit': 'egg', 'ingredient': 's'}, {'amount': '130', 'unit': 'g', 'ingredient': 'wholemeal rye flour'}, {'amount': '50', 'unit': 'g', 'ingredient': 'cocoa powder'}, {'amount': '1', 'unit': 'tsp', 'ingredient': 'baking soda'}, {'amount': '1', 'unit': '', 'ingredient': '/4 tsp salt'}, {'amount': '100', 'unit': 'g', 'ingredient': 'icing sugar'}]}\n",
            "17: {'name': 'Özlem Warren', 'ingredients': [{'amount': '90', 'unit': 'g', 'ingredient': 'unsalted shelled pistachios plus extra to serve'}, {'amount': '300', 'unit': 'g', 'ingredient': 'plain flour'}, {'amount': '125', 'unit': 'g', 'ingredient': 'icing sugar plus extra for dusting'}, {'amount': '250', 'unit': 'g', 'ingredient': 'unsalted butter cubed'}, {'amount': '', 'unit': '', 'ingredient': '½ tsp baking powder'}, {'amount': '1', 'unit': 'tsp', 'ingredient': 'vanilla extract'}]}\n",
            "18: {'name': 'Chocolate and tahini cookies', 'ingredients': [{'amount': '100', 'unit': 'g', 'ingredient': 'unsalted butter at room temperature'}, {'amount': '100', 'unit': 'g', 'ingredient': 'caster sugar'}, {'amount': '60', 'unit': 'g', 'ingredient': 'golden syrup'}, {'amount': '1', 'unit': 'tsp', 'ingredient': 'sesame oil'}, {'amount': '', 'unit': '', 'ingredient': '¼ tsp fine sea salt'}, {'amount': '175', 'unit': 'g', 'ingredient': 'plain flour'}, {'amount': '30', 'unit': 'g', 'ingredient': 'cocoa powder plus extra for rolling'}, {'amount': '', 'unit': '', 'ingredient': '½ tsp bicarbonate of soda'}, {'amount': '45', 'unit': 'g', 'ingredient': 'white chocolate melted'}, {'amount': '45', 'unit': 'g', 'ingredient': 'tahini'}, {'amount': '125', 'unit': 'g', 'ingredient': 'icing sugar sifted'}, {'amount': '1', 'unit': 'tbsp', 'ingredient': 'milk'}]}\n",
            "19: {'name': 'Helena Busiakiewicz', 'ingredients': [{'amount': '250', 'unit': 'g', 'ingredient': 'salted butter cubed'}, {'amount': '125', 'unit': 'g', 'ingredient': 'walnuts'}, {'amount': '100', 'unit': 'g', 'ingredient': 'golden caster sugar'}, {'amount': '175', 'unit': 'g', 'ingredient': 'soft light brown sugar'}, {'amount': '2', 'unit': 'egg', 'ingredient': 's'}, {'amount': '2', 'unit': 'tsp', 'ingredient': 'vanilla extract'}, {'amount': '300', 'unit': 'g', 'ingredient': 'plain flour'}, {'amount': '1', 'unit': 'tsp', 'ingredient': 'bicarbonate of soda'}, {'amount': '125', 'unit': 'g', 'ingredient': 'caramelised white chocolate roughly chopped into chunks'}, {'amount': '', 'unit': '', 'ingredient': 'sea salt flakes for sprinkling'}]}\n",
            "20: {'name': 'Amanda James', 'ingredients': [{'amount': '1', 'unit': 'eg', 'ingredient': 'g'}, {'amount': '230', 'unit': 'g', 'ingredient': 'golden caster sugar'}, {'amount': '', 'unit': '', 'ingredient': '½ tsp vanilla extract'}, {'amount': '1', 'unit': 'tsp', 'ingredient': 'sea salt plus extra to sprinkle on top'}, {'amount': '200', 'unit': 'g', 'ingredient': 'smooth peanut butter'}, {'amount': '', 'unit': '', 'ingredient': 'a handful roasted peanuts chopped'}]}\n",
            "JSON files for the cookies combined successfully!\n"
          ]
        }
      ],
      "source": [
        "import json\n",
        "\n",
        "#https://www.dessertfortwo.com/2-ingredient-peanut-butter-cookies/\n",
        "\n",
        "with open(\"/content/grp11_37_cookies_recipes.json\", \"r\") as f1:\n",
        "    data1 = json.load(f1)\n",
        "\n",
        "with open(\"/content/grp11_62_cookies_recipes.json\", \"r\") as f2:\n",
        "    data2 = json.load(f2)\n",
        "\n",
        "combined_recipes = data1.get(\"recipes\", []) + data2.get(\"recipes\", [])\n",
        "\n",
        "#first print first 20 lines of the file\n",
        "#add one last cookie recipe\n",
        "\n",
        "for i, recipe in enumerate(combined_recipes[:20], 1):\n",
        "    print(f\"{i}: {recipe}\")\n",
        "\n",
        "new_recipe = {\n",
        "    \"name\": \"2 Ingredient Peanut Butter Cookies\",\n",
        "    \"ingredients\": [\n",
        "        {\"amount\": \"1\", \"unit\": \"cup\", \"ingredient\": \"Peanut Butter\"},\n",
        "        {\"amount\": \"1/2\", \"unit\": \"cup\", \"ingredient\": \"Powdered Sugar\"}\n",
        "    ],\n",
        "}\n",
        "\n",
        "combined_recipes.append(new_recipe)\n",
        "\n",
        "combined_json = {\"recipes\": combined_recipes}\n",
        "\n",
        "with open(\"grp11_combined_cookie_knowledgebase.json\", \"w\") as f_out:\n",
        "    json.dump(combined_json, f_out, indent=2)\n",
        "\n",
        "print(\"JSON files for the cookies combined successfully!\")"
      ]
    }
  ]
}