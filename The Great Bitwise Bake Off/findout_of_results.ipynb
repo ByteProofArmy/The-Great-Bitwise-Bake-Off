{
 "cells": [
  {
   "cell_type": "code",
   "execution_count": 8,
   "id": "0dfa44f0",
   "metadata": {},
   "outputs": [],
   "source": [
    "import json, pathlib\n",
    "\n",
    "path = \"results/generated_recipes 3.json\"   # <- put your file here\n",
    "data = json.load(open(path, \"r\", encoding=\"utf-8\"))"
   ]
  },
  {
   "cell_type": "code",
   "execution_count": 9,
   "id": "3b4be449",
   "metadata": {},
   "outputs": [
    {
     "name": "stdout",
     "output_type": "stream",
     "text": [
      "Found 30 recipes\n",
      "\n",
      "Recipe-level keys: ['fitness', 'ingredients', 'name']\n",
      "Title: recipe 369\n",
      "Ingredients count: 9\n",
      "Ingredient item keys: ['amount', 'ingredient', 'unit', 'weight']\n",
      " - 184 g unsalted butter, melted (weight=184.1897233201581)\n",
      " - 7 g kosher salt (weight=7.905138339920948)\n",
      " - 1 g ½ tsp baking powder (weight=1.5810276679841897)\n",
      " - 137 g egg yolk (weight=137.5494071146245)\n",
      " - 160 g white chocolate chopped into small chunks (weight=160.47430830039525)\n",
      "\n",
      "Contains steps? False\n",
      "Contains time fields? False\n",
      "Contains nutrition? False\n"
     ]
    }
   ],
   "source": [
    "# Normalize: list of recipes whether file is [... ] or {\"recipes\":[...]}\n",
    "recipes = data[\"recipes\"] if isinstance(data, dict) and \"recipes\" in data else data\n",
    "print(f\"Found {len(recipes)} recipes\")\n",
    "\n",
    "# Peek schema of the first recipe\n",
    "r0 = recipes[0]\n",
    "print(\"\\nRecipe-level keys:\", sorted(r0.keys()))\n",
    "print(\"Title:\", r0.get(\"name\"))\n",
    "\n",
    "# Ingredient fields present\n",
    "ings = r0.get(\"ingredients\", [])\n",
    "print(f\"Ingredients count: {len(ings)}\")\n",
    "if ings:\n",
    "    print(\"Ingredient item keys:\", sorted(ings[0].keys()))\n",
    "    # Show the first 5 ingredients, human-readable\n",
    "    for it in ings[:5]:\n",
    "        print(f\" - {it.get('amount','?')} {it.get('unit','')} {it.get('ingredient','')} (weight={it.get('weight')})\")\n",
    "\n",
    "# Check what’s missing across all recipes\n",
    "has_steps = any(\"steps\" in r for r in recipes)\n",
    "has_times = any(k in r for r in recipes for k in (\"prep_time\",\"cook_time\",\"total_time\"))\n",
    "has_nutri = any(\"nutrition\" in r for r in recipes)\n",
    "print(\"\\nContains steps?\", has_steps)\n",
    "print(\"Contains time fields?\", has_times)\n",
    "print(\"Contains nutrition?\", has_nutri)\n"
   ]
  },
  {
   "cell_type": "code",
   "execution_count": null,
   "id": "35853c19",
   "metadata": {},
   "outputs": [],
   "source": []
  }
 ],
 "metadata": {
  "kernelspec": {
   "display_name": "base",
   "language": "python",
   "name": "python3"
  },
  "language_info": {
   "codemirror_mode": {
    "name": "ipython",
    "version": 3
   },
   "file_extension": ".py",
   "mimetype": "text/x-python",
   "name": "python",
   "nbconvert_exporter": "python",
   "pygments_lexer": "ipython3",
   "version": "3.13.5"
  }
 },
 "nbformat": 4,
 "nbformat_minor": 5
}
